{
 "cells": [
  {
   "cell_type": "code",
   "execution_count": 5,
   "id": "dde37da5",
   "metadata": {},
   "outputs": [],
   "source": [
    "import pandas as pd\n",
    "import numpy as np\n",
    "import matplotlib.pyplot as plt\n",
    "from IPython.display import display"
   ]
  },
  {
   "cell_type": "markdown",
   "id": "71f824f0",
   "metadata": {},
   "source": [
    "## Experience 1"
   ]
  },
  {
   "cell_type": "code",
   "execution_count": 6,
   "id": "7cff9b7d",
   "metadata": {},
   "outputs": [
    {
     "name": "stdout",
     "output_type": "stream",
     "text": [
      "EU | nombre de question moyen: 9.3 | std: 2.92 \n",
      "OWA | nombre de question moyen: 3.7 | std: 0.95 \n",
      "Choquet | nombre de question moyen: 19.55 | std: 3.29 \n"
     ]
    },
    {
     "data": {
      "image/png": "[encoded data removed]",
      "text/plain": [
       "<Figure size 432x288 with 1 Axes>"
      ]
     },
     "metadata": {
      "needs_background": "light"
     },
     "output_type": "display_data"
    }
   ],
   "source": [
    "# Loading csv\n",
    "L_mode = ['EU', 'OWA', 'Choquet']\n",
    "\n",
    "for mode in L_mode:\n",
    "    file1 = f'./data/{mode}/exp1_3KP50.csv'\n",
    "    result1 = pd.read_csv(file1, index_col=0)\n",
    "    p1 = result1.to_numpy()\n",
    "\n",
    "    Q = p1[:, 0] # nombre de questions\n",
    "    max_q = int(Q.max())\n",
    "    regrets = p1[:, 1:max_q+1]\n",
    "    print(f'{mode} | nombre de question moyen: {Q.mean()} | std: {Q.std().round(2)} ')\n",
    "    plt.plot(regrets.mean(0),'o-', label = mode)\n",
    "plt.legend()\n",
    "plt.title('Regrets des 20 simulations (n=50, p=3)')\n",
    "plt.show()"
   ]
  },
  {
   "cell_type": "markdown",
   "id": "d73b44f5",
   "metadata": {},
   "source": [
    "## Experience 2"
   ]
  },
  {
   "cell_type": "code",
   "execution_count": 21,
   "id": "921a61f5",
   "metadata": {},
   "outputs": [
    {
     "name": "stdout",
     "output_type": "stream",
     "text": [
      "========== EU ====================\n"
     ]
    },
    {
     "data": {
      "text/html": [
       "<div>\n",
       "<style scoped>\n",
       "    .dataframe tbody tr th:only-of-type {\n",
       "        vertical-align: middle;\n",
       "    }\n",
       "\n",
       "    .dataframe tbody tr th {\n",
       "        vertical-align: top;\n",
       "    }\n",
       "\n",
       "    .dataframe thead th {\n",
       "        text-align: right;\n",
       "    }\n",
       "</style>\n",
       "<table border=\"1\" class=\"dataframe\">\n",
       "  <thead>\n",
       "    <tr style=\"text-align: right;\">\n",
       "      <th></th>\n",
       "      <th>Number of queries</th>\n",
       "      <th>Gap</th>\n",
       "      <th>Times</th>\n",
       "    </tr>\n",
       "    <tr>\n",
       "      <th>Methode</th>\n",
       "      <th></th>\n",
       "      <th></th>\n",
       "      <th></th>\n",
       "    </tr>\n",
       "  </thead>\n",
       "  <tbody>\n",
       "    <tr>\n",
       "      <th>1.0</th>\n",
       "      <td>8.35</td>\n",
       "      <td>0.00</td>\n",
       "      <td>75.98</td>\n",
       "    </tr>\n",
       "    <tr>\n",
       "      <th>2.0</th>\n",
       "      <td>12.20</td>\n",
       "      <td>7.63</td>\n",
       "      <td>5.37</td>\n",
       "    </tr>\n",
       "  </tbody>\n",
       "</table>\n",
       "</div>"
      ],
      "text/plain": [
       "         Number of queries   Gap  Times\n",
       "Methode                                \n",
       "1.0                   8.35  0.00  75.98\n",
       "2.0                  12.20  7.63   5.37"
      ]
     },
     "metadata": {},
     "output_type": "display_data"
    },
    {
     "name": "stdout",
     "output_type": "stream",
     "text": [
      "\n",
      "========== OWA ====================\n"
     ]
    },
    {
     "data": {
      "text/html": [
       "<div>\n",
       "<style scoped>\n",
       "    .dataframe tbody tr th:only-of-type {\n",
       "        vertical-align: middle;\n",
       "    }\n",
       "\n",
       "    .dataframe tbody tr th {\n",
       "        vertical-align: top;\n",
       "    }\n",
       "\n",
       "    .dataframe thead th {\n",
       "        text-align: right;\n",
       "    }\n",
       "</style>\n",
       "<table border=\"1\" class=\"dataframe\">\n",
       "  <thead>\n",
       "    <tr style=\"text-align: right;\">\n",
       "      <th></th>\n",
       "      <th>Number of queries</th>\n",
       "      <th>Gap</th>\n",
       "      <th>Times</th>\n",
       "    </tr>\n",
       "    <tr>\n",
       "      <th>Methode</th>\n",
       "      <th></th>\n",
       "      <th></th>\n",
       "      <th></th>\n",
       "    </tr>\n",
       "  </thead>\n",
       "  <tbody>\n",
       "    <tr>\n",
       "      <th>1.0</th>\n",
       "      <td>2.90</td>\n",
       "      <td>-0.0</td>\n",
       "      <td>40.87</td>\n",
       "    </tr>\n",
       "    <tr>\n",
       "      <th>2.0</th>\n",
       "      <td>5.25</td>\n",
       "      <td>9.2</td>\n",
       "      <td>3.68</td>\n",
       "    </tr>\n",
       "  </tbody>\n",
       "</table>\n",
       "</div>"
      ],
      "text/plain": [
       "         Number of queries  Gap  Times\n",
       "Methode                               \n",
       "1.0                   2.90 -0.0  40.87\n",
       "2.0                   5.25  9.2   3.68"
      ]
     },
     "metadata": {},
     "output_type": "display_data"
    },
    {
     "name": "stdout",
     "output_type": "stream",
     "text": [
      "\n",
      "========== Choquet ====================\n"
     ]
    },
    {
     "data": {
      "text/html": [
       "<div>\n",
       "<style scoped>\n",
       "    .dataframe tbody tr th:only-of-type {\n",
       "        vertical-align: middle;\n",
       "    }\n",
       "\n",
       "    .dataframe tbody tr th {\n",
       "        vertical-align: top;\n",
       "    }\n",
       "\n",
       "    .dataframe thead th {\n",
       "        text-align: right;\n",
       "    }\n",
       "</style>\n",
       "<table border=\"1\" class=\"dataframe\">\n",
       "  <thead>\n",
       "    <tr style=\"text-align: right;\">\n",
       "      <th></th>\n",
       "      <th>Number of queries</th>\n",
       "      <th>Gap</th>\n",
       "      <th>Times</th>\n",
       "    </tr>\n",
       "    <tr>\n",
       "      <th>Methode</th>\n",
       "      <th></th>\n",
       "      <th></th>\n",
       "      <th></th>\n",
       "    </tr>\n",
       "  </thead>\n",
       "  <tbody>\n",
       "    <tr>\n",
       "      <th>1.0</th>\n",
       "      <td>18.7</td>\n",
       "      <td>-0.00</td>\n",
       "      <td>165.37</td>\n",
       "    </tr>\n",
       "    <tr>\n",
       "      <th>2.0</th>\n",
       "      <td>16.0</td>\n",
       "      <td>9.25</td>\n",
       "      <td>7.72</td>\n",
       "    </tr>\n",
       "  </tbody>\n",
       "</table>\n",
       "</div>"
      ],
      "text/plain": [
       "         Number of queries   Gap   Times\n",
       "Methode                                 \n",
       "1.0                   18.7 -0.00  165.37\n",
       "2.0                   16.0  9.25    7.72"
      ]
     },
     "metadata": {},
     "output_type": "display_data"
    },
    {
     "name": "stdout",
     "output_type": "stream",
     "text": [
      "\n"
     ]
    }
   ],
   "source": [
    "for mode in L_mode:\n",
    "    file2 = f'./data/{mode}/exp2_3KP50.csv'\n",
    "\n",
    "    result2 = pd.read_csv(file2, index_col=0)\n",
    "    print('='*10,mode,'='*20)\n",
    "    display(result2.groupby('Methode').mean().round(2))\n",
    "    print()"
   ]
  },
  {
   "cell_type": "code",
   "execution_count": 22,
   "id": "ef399590",
   "metadata": {},
   "outputs": [
    {
     "data": {
      "text/html": [
       "<div>\n",
       "<style scoped>\n",
       "    .dataframe tbody tr th:only-of-type {\n",
       "        vertical-align: middle;\n",
       "    }\n",
       "\n",
       "    .dataframe tbody tr th {\n",
       "        vertical-align: top;\n",
       "    }\n",
       "\n",
       "    .dataframe thead th {\n",
       "        text-align: right;\n",
       "    }\n",
       "</style>\n",
       "<table border=\"1\" class=\"dataframe\">\n",
       "  <thead>\n",
       "    <tr style=\"text-align: right;\">\n",
       "      <th></th>\n",
       "      <th>Number of queries</th>\n",
       "      <th>Gap</th>\n",
       "      <th>Times</th>\n",
       "    </tr>\n",
       "    <tr>\n",
       "      <th>Methode</th>\n",
       "      <th></th>\n",
       "      <th></th>\n",
       "      <th></th>\n",
       "    </tr>\n",
       "  </thead>\n",
       "  <tbody>\n",
       "    <tr>\n",
       "      <th>1.0</th>\n",
       "      <td>2.90</td>\n",
       "      <td>-0.0</td>\n",
       "      <td>40.87</td>\n",
       "    </tr>\n",
       "    <tr>\n",
       "      <th>2.0</th>\n",
       "      <td>5.25</td>\n",
       "      <td>9.2</td>\n",
       "      <td>3.68</td>\n",
       "    </tr>\n",
       "  </tbody>\n",
       "</table>\n",
       "</div>"
      ],
      "text/plain": [
       "         Number of queries  Gap  Times\n",
       "Methode                               \n",
       "1.0                   2.90 -0.0  40.87\n",
       "2.0                   5.25  9.2   3.68"
      ]
     },
     "execution_count": 22,
     "metadata": {},
     "output_type": "execute_result"
    }
   ],
   "source": [
    "result2.groupby('Methode').mean().round(2)"
   ]
  },
  {
   "cell_type": "code",
   "execution_count": null,
   "id": "110b684e",
   "metadata": {},
   "outputs": [],
   "source": []
  }
 ],
 "metadata": {
  "kernelspec": {
   "display_name": "Python 3 (ipykernel)",
   "language": "python",
   "name": "python3"
  },
  "language_info": {
   "codemirror_mode": {
    "name": "ipython",
    "version": 3
   },
   "file_extension": ".py",
   "mimetype": "text/x-python",
   "name": "python",
   "nbconvert_exporter": "python",
   "pygments_lexer": "ipython3",
   "version": "3.9.7"
  }
 },
 "nbformat": 4,
 "nbformat_minor": 5
}
