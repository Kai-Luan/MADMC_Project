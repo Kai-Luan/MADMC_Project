{
 "cells": [
  {
   "cell_type": "code",
   "execution_count": 1,
   "id": "692f3f17",
   "metadata": {},
   "outputs": [],
   "source": [
    "import numpy as np\n",
    "import matplotlib.pyplot as plt\n",
    "from utils import *\n",
    "from matplotlib.patches import Rectangle"
   ]
  },
  {
   "cell_type": "markdown",
   "id": "d7f61758",
   "metadata": {},
   "source": [
    "## Test ND_Tree"
   ]
  },
  {
   "cell_type": "code",
   "execution_count": 2,
   "id": "20a0fdba",
   "metadata": {},
   "outputs": [
    {
     "name": "stdout",
     "output_type": "stream",
     "text": [
      "A is C\n",
      "C is A\n"
     ]
    }
   ],
   "source": [
    "A = [np.arange(10), np.arange(6)]\n",
    "B = [np.arange(10), np.arange(6)]\n",
    "C = A\n",
    "if A is B:\n",
    "    print('Problem A is B')\n",
    "if A is C:\n",
    "    print('A is C')\n",
    "if C is A:\n",
    "    print('C is A')"
   ]
  },
  {
   "cell_type": "code",
   "execution_count": 3,
   "id": "05578bfb",
   "metadata": {
    "scrolled": true
   },
   "outputs": [
    {
     "name": "stdout",
     "output_type": "stream",
     "text": [
      "[(0, array([69.19960118,  0.19322545])), (1, array([38.71983115, 17.18795489]))]\n"
     ]
    },
    {
     "data": {
      "image/png": "[encoded data removed]",
      "text/plain": [
       "<Figure size 432x288 with 1 Axes>"
      ]
     },
     "metadata": {
      "needs_background": "light"
     },
     "output_type": "display_data"
    }
   ],
   "source": [
    "n= 1000\n",
    "data = np.random.rand(n,2)*100\n",
    "data = data[data.sum(1)<100]\n",
    "data = data + np.random.normal(size=data.shape)*1\n",
    "data = list(enumerate(data))\n",
    "print(data[:2])\n",
    "points = np.array([p[1] for p in data])\n",
    "plt.scatter(*points.T)\n",
    "plt.show()"
   ]
  },
  {
   "cell_type": "code",
   "execution_count": 4,
   "id": "e4814cc9",
   "metadata": {
    "scrolled": false
   },
   "outputs": [
    {
     "data": {
      "image/png": "[encoded data removed]",
      "text/plain": [
       "<Figure size 432x288 with 1 Axes>"
      ]
     },
     "metadata": {
      "needs_background": "light"
     },
     "output_type": "display_data"
    },
    {
     "name": "stdout",
     "output_type": "stream",
     "text": [
      "Arret\n"
     ]
    }
   ],
   "source": [
    "YN = NDTree(NBMAX=10)\n",
    "FP = []\n",
    "for i,p in enumerate(data):\n",
    "    if YN.update(p):\n",
    "        points = YN.getPoints()\n",
    "        carre =  YN.getSquares(True)\n",
    "\n",
    "m = max(carre, key=lambda x: x[0])[0]\n",
    "colors = [u'#1f77b4', u'#ff7f0e', u'#2ca02c', u'#d62728', u'#9467bd', u'#8c564b', u'#e377c2', u'#7f7f7f', u'#bcbd22', u'#17becf']\n",
    "\n",
    "for depth,yi, yn in carre:\n",
    "    yi = np.array(yi)\n",
    "    yn = np.array(yn)\n",
    "    plt.gca().add_patch(\n",
    "        Rectangle(\n",
    "            yn,*(yi-yn),\n",
    "            edgecolor=colors[depth],\n",
    "            facecolor='none',\n",
    "            lw=1)) \n",
    "\n",
    "plt.scatter(*np.array([p[1] for p in points]).T)\n",
    "plt.xlim(xmin=0, xmax=100)\n",
    "plt.ylim(ymin=0, ymax=100)\n",
    "plt.show()\n",
    "print(\"Arret\")"
   ]
  },
  {
   "cell_type": "code",
   "execution_count": 5,
   "id": "3fd62523",
   "metadata": {
    "scrolled": true
   },
   "outputs": [
    {
     "name": "stdout",
     "output_type": "stream",
     "text": [
      "[[46.59867547 50.19305953]\n",
      " [40.89946551 55.87147869]\n",
      " [42.64865468 53.1245311 ]\n",
      " [40.92263717 54.71761826]\n",
      " [40.03805435 59.31584547]\n",
      " [35.20878673 62.11055142]\n",
      " [44.27830173 52.99346047]\n",
      " [40.63700713 57.66944422]\n",
      " [26.95701786 74.35847444]\n",
      " [27.97062394 69.90063477]\n",
      " [31.3730925  67.5583862 ]\n",
      " [30.10851619 68.1847702 ]\n",
      " [15.51721417 82.84382748]\n",
      " [ 1.74053182 97.60141587]\n",
      " [ 3.85215757 95.92609579]\n",
      " [21.74408287 74.74104022]\n",
      " [ 8.87714084 90.72703145]\n",
      " [16.39373617 80.66897958]\n",
      " [21.06058094 80.41487758]\n",
      " [-1.13158027 98.1863986 ]\n",
      " [90.58989344  4.13528714]\n",
      " [76.06917866 22.11698716]\n",
      " [77.09631809 19.34482837]\n",
      " [86.45859584 11.22339001]\n",
      " [97.36762521  1.77036543]\n",
      " [89.29824174  5.14437783]\n",
      " [87.89548127  9.02828849]\n",
      " [85.87589123 14.5094866 ]\n",
      " [96.98648848  2.9428445 ]\n",
      " [88.54586147  6.28182003]\n",
      " [64.90989476 32.78793641]\n",
      " [68.26099919 30.26487835]\n",
      " [65.2978298  32.75292008]\n",
      " [65.35379146 31.82082446]\n",
      " [72.91714167 27.69853864]\n",
      " [63.06910805 33.50205279]\n",
      " [50.59423887 49.04623328]\n",
      " [54.46237754 43.53271225]\n",
      " [60.89289851 38.99589816]\n",
      " [53.36480998 45.73531399]\n",
      " [57.70811886 40.78919266]]\n",
      "OK 1\n",
      "OK 1\n",
      "OK 1\n",
      "OK 1\n",
      "OK 1\n",
      "OK 1\n",
      "OK 1\n",
      "OK 1\n",
      "OK 1\n",
      "OK 1\n",
      "OK 1\n",
      "OK 1\n",
      "OK 1\n",
      "OK 1\n",
      "OK 1\n",
      "OK 1\n",
      "OK 1\n",
      "OK 1\n",
      "OK 1\n",
      "OK 1\n",
      "OK 1\n",
      "OK 1\n",
      "OK 1\n",
      "OK 1\n",
      "OK 1\n",
      "OK 1\n",
      "OK 1\n",
      "OK 1\n",
      "OK 1\n",
      "OK 1\n",
      "OK 1\n",
      "OK 1\n",
      "OK 1\n",
      "OK 1\n",
      "OK 1\n",
      "OK 1\n",
      "OK 1\n",
      "OK 1\n",
      "OK 1\n",
      "OK 1\n",
      "OK 1\n"
     ]
    }
   ],
   "source": [
    "Xe = np.array([p[1] for p in points])\n",
    "print(Xe)\n",
    "for x in Xe:\n",
    "    s = np.sum(np.all(Xe - x >= 0, axis=1))\n",
    "    if s>=2:\n",
    "        print('Problem')\n",
    "        print(x)\n",
    "        print(np.where(np.all(Xe - x >= 0, axis=1)))\n",
    "    else:\n",
    "        print('OK', s)"
   ]
  },
  {
   "cell_type": "markdown",
   "id": "f8e148be",
   "metadata": {},
   "source": [
    "## Test PLS"
   ]
  },
  {
   "cell_type": "code",
   "execution_count": null,
   "id": "e6e6f372",
   "metadata": {},
   "outputs": [],
   "source": [
    "def PLS(m, params, NBMAX= 20, verbose=False):\n",
    "\tpopulation = init(m,params)\n",
    "\tXe = NDTree(NBMAX=NBMAX)\n",
    "\tfor e in population: Xe.update(e)\n",
    "\tPa = NDTree(NBMAX=NBMAX)\n",
    "\n",
    "\titeration = 1\n",
    "\twhile population:\n",
    "\t\tif verbose: print(f'{iteration = } | population size: {len(population)}')\n",
    "\t\tfor p in population:\n",
    "\t\t\tfor candidat in voisinage(p, params):\n",
    "\t\t\t\tif np.all(p[1] >= candidat[1]): continue\n",
    "\t\t\t\tif Xe.update(candidat): Pa.update(candidat)\n",
    "\t\tpopulation = Pa.getPoints()\n",
    "\t\tPa.reset()\n",
    "\t\tYND = Xe.getPoints()\n",
    "\t\tYND = np.array([p[1] for p in YND])\n",
    "\t\tplt.scatter(*YND.T)\n",
    "\t\tplt.xlim(xmin = 7e4, xmax=9e4)\n",
    "\t\tplt.ylim(ymin = 6e4, ymax=8e4)\n",
    "\t\tplt.show()\n",
    "\t\titeration += 1\n",
    "\treturn Xe.getPoints()"
   ]
  },
  {
   "cell_type": "code",
   "execution_count": null,
   "id": "b1b77a28",
   "metadata": {},
   "outputs": [],
   "source": [
    "## Phase 1\n",
    "numInstance=1\n",
    "n= 200\n",
    "p = 2\n",
    "w=np.zeros(n,dtype=int) # poids des objets\n",
    "v=np.zeros((n,p),dtype=int) # utilités des objets\n",
    "filename = f\"./data/2KP{n}-TA-{numInstance}.dat\"\n",
    "\n",
    "print(v.shape)\n",
    "\n",
    "# W: budget\n",
    "W=readFile(filename,w,v)\n",
    "\n",
    "params = (n,p,v,w,W)\n",
    "m = 1\n",
    "verbose = True\n",
    "NBMAX = 20\n",
    "\n",
    "PLS(\n",
    "    m,\n",
    "    params,\n",
    "    NBMAX,\n",
    "    verbose= True\n",
    ")"
   ]
  }
 ],
 "metadata": {
  "kernelspec": {
   "display_name": "Python 3 (ipykernel)",
   "language": "python",
   "name": "python3"
  },
  "language_info": {
   "codemirror_mode": {
    "name": "ipython",
    "version": 3
   },
   "file_extension": ".py",
   "mimetype": "text/x-python",
   "name": "python",
   "nbconvert_exporter": "python",
   "pygments_lexer": "ipython3",
   "version": "3.9.7"
  }
 },
 "nbformat": 4,
 "nbformat_minor": 5
}
