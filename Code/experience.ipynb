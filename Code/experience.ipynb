{
 "cells": [
  {
   "cell_type": "code",
   "execution_count": 1,
   "id": "3fd62523",
   "metadata": {},
   "outputs": [],
   "source": [
    "import numpy as np\n",
    "import matplotlib.pyplot as plt\n",
    "from utils import *\n",
    "from read_file import *\n",
    "from indicators import *"
   ]
  },
  {
   "cell_type": "markdown",
   "id": "f369de9a",
   "metadata": {},
   "source": [
    "## Load Data"
   ]
  },
  {
   "cell_type": "code",
   "execution_count": 2,
   "id": "c16339c5",
   "metadata": {},
   "outputs": [],
   "source": [
    "numInstance=0\n",
    "n=200\n",
    "p=6\n",
    "\n",
    "w=np.zeros(n,dtype=int) # poids des objets\n",
    "v=np.zeros((n,p),dtype=int) # utilités des objets\n",
    "filename = \"../data/\"+\"2KP\"+str(n)+\"-TA-\"+str(numInstance)+\".dat\"\n",
    "\n",
    "# W: budget\n",
    "W=readFile(filename,w,v)"
   ]
  },
  {
   "cell_type": "markdown",
   "id": "803fb033",
   "metadata": {},
   "source": [
    "## Procedure I"
   ]
  },
  {
   "cell_type": "code",
   "execution_count": null,
   "id": "7d1c5bee",
   "metadata": {},
   "outputs": [],
   "source": [
    "## Phase 1\n"
   ]
  },
  {
   "cell_type": "markdown",
   "id": "066653eb",
   "metadata": {},
   "source": [
    "## Procedure II"
   ]
  },
  {
   "cell_type": "code",
   "execution_count": null,
   "id": "568ae85d",
   "metadata": {},
   "outputs": [],
   "source": []
  }
 ],
 "metadata": {
  "kernelspec": {
   "display_name": "Python 3 (ipykernel)",
   "language": "python",
   "name": "python3"
  },
  "language_info": {
   "codemirror_mode": {
    "name": "ipython",
    "version": 3
   },
   "file_extension": ".py",
   "mimetype": "text/x-python",
   "name": "python",
   "nbconvert_exporter": "python",
   "pygments_lexer": "ipython3",
   "version": "3.9.7"
  }
 },
 "nbformat": 4,
 "nbformat_minor": 5
}
