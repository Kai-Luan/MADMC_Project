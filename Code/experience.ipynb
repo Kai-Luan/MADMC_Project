{
 "cells": [
  {
   "cell_type": "code",
   "execution_count": 8,
   "id": "3fd62523",
   "metadata": {},
   "outputs": [],
   "source": [
    "import numpy as np\n",
    "import matplotlib.pyplot as plt\n",
    "from utils import *\n",
    "from read_file import *\n",
    "from indicators import *\n",
    "import os"
   ]
  },
  {
   "cell_type": "markdown",
   "id": "12135215",
   "metadata": {},
   "source": [
    "## Première procédure de résolution\n",
    "### Phase I"
   ]
  },
  {
   "cell_type": "code",
   "execution_count": 9,
   "id": "c085307e",
   "metadata": {},
   "outputs": [
    {
     "name": "stdout",
     "output_type": "stream",
     "text": [
      "(50,) (50, 3) 13299\n"
     ]
    }
   ],
   "source": [
    "## Loading data\n",
    "n = 200\n",
    "p = 6\n",
    "filename = f\"./data/2KP200-TA-0.dat\"\n",
    "\n",
    "w=np.zeros(n,dtype=int) # poids des objets\n",
    "v=np.zeros((n,p),dtype=int) # utilités des objets\n",
    "W = readFile(filename,w,v)\n",
    "\n",
    "# ====== On prend un sous-ensemble du problème ====\n",
    "n = 50\n",
    "p = 3\n",
    "w = w[:n]\n",
    "v = v[:n,:p]\n",
    "W = w.sum()//2\n",
    "print(w.shape, v.shape, W)"
   ]
  },
  {
   "cell_type": "code",
   "execution_count": 10,
   "id": "92bd3e49",
   "metadata": {},
   "outputs": [
    {
     "name": "stdout",
     "output_type": "stream",
     "text": [
      "nombre de points non-dominés trouvés: 268\n"
     ]
    }
   ],
   "source": [
    "## Phase I: generate non-dominated solution with PLS\n",
    "params = (n,p,v,w,W)\n",
    "m = 20\n",
    "verbose = True\n",
    "NBMAX = 20\n",
    "\n",
    "YND = PLS(m,params,NBMAX,verbose= False)\n",
    "points = list(map(lambda x: x[1], YND))\n",
    "points = np.array(points)\n",
    "print(f'nombre de points non-dominés trouvés: {len(points)}')"
   ]
  },
  {
   "cell_type": "code",
   "execution_count": 4,
   "id": "4319967a",
   "metadata": {},
   "outputs": [
    {
     "data": {
      "text/plain": [
       "(272, 3)"
      ]
     },
     "execution_count": 4,
     "metadata": {},
     "output_type": "execute_result"
    }
   ],
   "source": [
    "# On sauvegarde les points dans l'espace des critères\n",
    "file_output = './sol/I2dim.sol'\n",
    "if not os.path.isfile(file_output):\n",
    "    np.savetxt(file_output, points)\n",
    "points = np.loadtxt(file_output)\n",
    "points = points.astype(int)\n",
    "YND = [(None,p) for p in points]\n",
    "points.shape"
   ]
  },
  {
   "cell_type": "markdown",
   "id": "0fdd5dd1",
   "metadata": {},
   "source": [
    "### Phase II: "
   ]
  },
  {
   "cell_type": "code",
   "execution_count": 18,
   "id": "25791a6f",
   "metadata": {
    "scrolled": false
   },
   "outputs": [
    {
     "data": {
      "text/plain": [
       "array([20260, 19926, 18312])"
      ]
     },
     "execution_count": 18,
     "metadata": {},
     "output_type": "execute_result"
    }
   ],
   "source": [
    "# On génère les paramètres du décideur\n",
    "mode = 'Choquet'\n",
    "p = points.shape[1]\n",
    "DM = DecisionMaker(p, mode)\n",
    "\n",
    "# Solution optimale pour le décideur\n",
    "scores = [DM.value(y) for y in YND]\n",
    "opt = points[np.argmax(scores)]\n",
    "opt"
   ]
  },
  {
   "cell_type": "code",
   "execution_count": 25,
   "id": "6fdc36a9",
   "metadata": {
    "scrolled": true
   },
   "outputs": [
    {
     "name": "stdout",
     "output_type": "stream",
     "text": [
      "8\n",
      "8 8\n",
      "('11101111011111101011111110101001101010010110111001', 19181.17981219009)\n",
      "[20260 19926 18312]\n"
     ]
    }
   ],
   "source": [
    "DM_opt = get_opt_choquet(params, DM.params)\n",
    "print(DM_opt)\n",
    "sol = int(DM_opt[0],2)\n",
    "\n",
    "y = np.array([v[i] for i in range(n) if sol & 1<<i])\n",
    "print(y.sum(0))"
   ]
  },
  {
   "cell_type": "code",
   "execution_count": 26,
   "id": "8d1130e7",
   "metadata": {
    "scrolled": false
   },
   "outputs": [
    {
     "name": "stdout",
     "output_type": "stream",
     "text": [
      "Init Choquet Model\n",
      "Start | regret = 0.31\n",
      "[20507 19325 17899] [18773 20937 16314]\n",
      "it = 1 | regret = 0.28 | [20688 18746 18038] [20165 20241 16361]\n",
      "it = 2 | regret = 0.26 | [20663 18524 18138] [21989 17434 14928]\n",
      "it = 3 | regret = 0.16 | [19736 18878 18717] [20929 19710 17630]\n",
      "it = 4 | regret = 0.09 | [19326 18843 19077] [18411 20722 17940]\n",
      "it = 5 | regret = 0.07 | [19326 18843 19077] [18290 17341 19459]\n",
      "it = 6 | regret = 0.06 | [19552 18934 18893] [19131 17957 19234]\n",
      "it = 7 | regret = 0.06 | [19552 18934 18893] [20260 19926 18312]\n",
      "it = 8 | regret = 0.05 | [20260 19926 18312] [20544 18165 18500]\n",
      "it = 9 | regret = 0.04 | [20260 19926 18312] [17771 19908 18626]\n",
      "it = 10 | regret = 0.04 | [20260 19926 18312] [18804 20057 18535]\n",
      "it = 11 | regret = 0.02 | [20260 19926 18312] [19562 18331 19149]\n",
      "it = 12 | regret = 0.02 | [20260 19926 18312] [19326 18843 19077]\n",
      "it = 13 | regret = 0.01 | [20260 19926 18312] [20479 18580 18314]\n",
      "it = 14 | regret = 0.01 | [20260 19926 18312] [19120 19294 18777]\n",
      "it = 15 | regret = 0.01 | [20260 19926 18312] [19376 18691 19154]\n",
      "it = 16 | regret = 0.00 | [20260 19926 18312] [19575 19460 18622]\n",
      "it = 17 | regret = 0.00 | [20260 19926 18312] [20202 19145 18463]\n",
      "it = 18 | regret = 0.00 | [20260 19926 18312] [20939 19107 17886]\n",
      "it = 19 | regret = 0.00 | [20260 19926 18312] [18814 19454 18791]\n",
      "it = 20 | regret = 0.00 | [20260 19926 18312] [19525 19612 18545]\n",
      "it = 21 | regret = 0.00 | [20260 19926 18312] [19326 18843 19077]\n"
     ]
    }
   ],
   "source": [
    "eps = 1e-4\n",
    "model = Model(dim=p, mode=mode)\n",
    "\n",
    "o1, o2, regret = model.CSS(YND)\n",
    "minmax_regrets = [regret]\n",
    "\n",
    "print(f'Start | {regret =: .2f}')\n",
    "print(o1[1], o2[1])\n",
    "it = 1\n",
    "\n",
    "# ### CORRIGER LE SORT\n",
    "#\n",
    "while regret > eps:\n",
    "    if DM.ask(o1, o2): model.update(o1,o2)\n",
    "    else: model.update(o2,o1)\n",
    "    o1, o2, regret = model.CSS(YND)\n",
    "    minmax_regrets.append(regret)\n",
    "    print(f'{it = } | {regret =: .2f} | {o1[1]} {o2[1]}')\n",
    "    it += 1"
   ]
  },
  {
   "cell_type": "code",
   "execution_count": 16,
   "id": "80f3547c",
   "metadata": {},
   "outputs": [
    {
     "data": {
      "text/plain": [
       "Text(0, 0.5, 'minimax regret')"
      ]
     },
     "execution_count": 16,
     "metadata": {},
     "output_type": "execute_result"
    },
    {
     "data": {
      "image/png": "[encoded data removed]",
      "text/plain": [
       "<Figure size 432x288 with 1 Axes>"
      ]
     },
     "metadata": {
      "needs_background": "light"
     },
     "output_type": "display_data"
    }
   ],
   "source": [
    "plt.plot(minmax_regrets, 'o-')\n",
    "plt.xlabel('number of queries')\n",
    "plt.ylabel('minimax regret')"
   ]
  },
  {
   "cell_type": "code",
   "execution_count": null,
   "id": "7e54ae34",
   "metadata": {},
   "outputs": [],
   "source": []
  }
 ],
 "metadata": {
  "kernelspec": {
   "display_name": "Python 3 (ipykernel)",
   "language": "python",
   "name": "python3"
  },
  "language_info": {
   "codemirror_mode": {
    "name": "ipython",
    "version": 3
   },
   "file_extension": ".py",
   "mimetype": "text/x-python",
   "name": "python",
   "nbconvert_exporter": "python",
   "pygments_lexer": "ipython3",
   "version": "3.9.7"
  }
 },
 "nbformat": 4,
 "nbformat_minor": 5
}
