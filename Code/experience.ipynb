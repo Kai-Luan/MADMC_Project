{
 "cells": [
  {
   "cell_type": "code",
   "execution_count": 1,
   "id": "3fd62523",
   "metadata": {},
   "outputs": [],
   "source": [
    "import numpy as np\n",
    "import matplotlib.pyplot as plt\n",
    "from utils import *\n",
    "from read_file import *\n",
    "import os"
   ]
  },
  {
   "cell_type": "markdown",
   "id": "12135215",
   "metadata": {},
   "source": [
    "## Première procédure de résolution\n",
    "### Phase I"
   ]
  },
  {
   "cell_type": "code",
   "execution_count": 2,
   "id": "c085307e",
   "metadata": {},
   "outputs": [
    {
     "name": "stdout",
     "output_type": "stream",
     "text": [
      "(50,) (50, 3) 13299\n"
     ]
    }
   ],
   "source": [
    "## Loading data\n",
    "n = 200\n",
    "p = 6\n",
    "filename = f\"./data/2KP200-TA-0.dat\"\n",
    "\n",
    "w=np.zeros(n,dtype=int) # poids des objets\n",
    "v=np.zeros((n,p),dtype=int) # utilités des objets\n",
    "W = readFile(filename,w,v)\n",
    "\n",
    "# ====== On prend un sous-ensemble du problème ====\n",
    "n = 50\n",
    "p = 3\n",
    "w = w[:n]\n",
    "v = v[:n,:p]\n",
    "W = w.sum()//2\n",
    "print(w.shape, v.shape, W)"
   ]
  },
  {
   "cell_type": "code",
   "execution_count": 3,
   "id": "92bd3e49",
   "metadata": {},
   "outputs": [
    {
     "name": "stdout",
     "output_type": "stream",
     "text": [
      "nombre de points non-dominés trouvés: 225\n"
     ]
    }
   ],
   "source": [
    "## Phase I: generate non-dominated solution with PLS\n",
    "params = (n,p,v,w,W)\n",
    "m = 20\n",
    "verbose = True\n",
    "NBMAX = 20\n",
    "\n",
    "YND = PLS(m,params,NBMAX,verbose= False)\n",
    "points = list(map(lambda x: x[1], YND))\n",
    "points = np.array(points)\n",
    "print(f'nombre de points non-dominés trouvés: {len(points)}')"
   ]
  },
  {
   "cell_type": "markdown",
   "id": "0fdd5dd1",
   "metadata": {},
   "source": [
    "### Phase II: "
   ]
  },
  {
   "cell_type": "code",
   "execution_count": 8,
   "id": "8d1130e7",
   "metadata": {
    "scrolled": false
   },
   "outputs": [
    {
     "name": "stdout",
     "output_type": "stream",
     "text": [
      "epoch = 0\n",
      "Init EU Model\n",
      "epoch = 1\n",
      "Init EU Model\n",
      "epoch = 2\n",
      "Init EU Model\n",
      "epoch = 3\n",
      "Init EU Model\n",
      "epoch = 4\n",
      "Init EU Model\n",
      "epoch = 5\n",
      "Init EU Model\n",
      "epoch = 6\n",
      "Init EU Model\n",
      "epoch = 7\n",
      "Init EU Model\n",
      "epoch = 8\n",
      "Init EU Model\n",
      "epoch = 9\n",
      "Init EU Model\n",
      "epoch = 10\n",
      "Init EU Model\n",
      "epoch = 11\n",
      "Init EU Model\n",
      "epoch = 12\n",
      "Init EU Model\n",
      "epoch = 13\n",
      "Init EU Model\n",
      "epoch = 14\n",
      "Init EU Model\n",
      "epoch = 15\n",
      "Init EU Model\n",
      "epoch = 16\n",
      "Init EU Model\n",
      "epoch = 17\n",
      "Init EU Model\n",
      "epoch = 18\n",
      "Init EU Model\n",
      "epoch = 19\n",
      "Init EU Model\n"
     ]
    }
   ],
   "source": [
    "eps = 1e-4\n",
    "L = []\n",
    "mode = 'EU'\n",
    "for epoch in range(20):\n",
    "    print(f'{epoch = }')\n",
    "    DM = DecisionMaker(p, mode)\n",
    "    model = Model(dim=p, mode=mode)\n",
    "    o1, o2, regret = model.CSS(YND)\n",
    "    minmax_regrets = [regret]\n",
    "    it = 1\n",
    "    while regret > eps:\n",
    "        if DM.ask(o1, o2): model.update(o1,o2)\n",
    "        else: model.update(o2,o1)\n",
    "        o1, o2, regret = model.CSS(YND)\n",
    "        minmax_regrets.append(regret)\n",
    "    L.append(minmax_regrets)"
   ]
  },
  {
   "cell_type": "markdown",
   "id": "3da8b52c",
   "metadata": {},
   "source": [
    "## Evaluation du nombre de questions nécessaires pour identifier la solution optimale pour le décideur"
   ]
  },
  {
   "cell_type": "code",
   "execution_count": 10,
   "id": "09711cd5",
   "metadata": {},
   "outputs": [
    {
     "name": "stdout",
     "output_type": "stream",
     "text": [
      "10.45\n"
     ]
    }
   ],
   "source": [
    "sizes = [len(x) for x in L]\n",
    "print(np.mean(sizes))"
   ]
  },
  {
   "cell_type": "code",
   "execution_count": 11,
   "id": "ff1f5662",
   "metadata": {},
   "outputs": [
    {
     "data": {
      "text/plain": [
       "[15, 13, 9, 12, 10, 8, 9, 9, 15, 7, 15, 10, 5, 5, 12, 10, 10, 10, 15, 10]"
      ]
     },
     "execution_count": 11,
     "metadata": {},
     "output_type": "execute_result"
    }
   ],
   "source": [
    "sizes"
   ]
  },
  {
   "cell_type": "markdown",
   "id": "6e747beb",
   "metadata": {},
   "source": [
    "## Variation du regret minimax en fonction du nombre de questions posées"
   ]
  },
  {
   "cell_type": "code",
   "execution_count": 14,
   "id": "0429afc0",
   "metadata": {},
   "outputs": [
    {
     "data": {
      "text/plain": [
       "Text(0, 0.5, 'minimax regret')"
      ]
     },
     "execution_count": 14,
     "metadata": {},
     "output_type": "execute_result"
    },
    {
     "data": {
      "image/png": "[encoded data removed]",
      "text/plain": [
       "<Figure size 432x288 with 1 Axes>"
      ]
     },
     "metadata": {
      "needs_background": "light"
     },
     "output_type": "display_data"
    }
   ],
   "source": [
    "for regrets in L:\n",
    "    plt.plot(regrets, 'o-', alpha=0.5)\n",
    "plt.xlabel('number of queries')\n",
    "plt.ylabel('minimax regret')"
   ]
  },
  {
   "cell_type": "code",
   "execution_count": 24,
   "id": "e3926377",
   "metadata": {},
   "outputs": [
    {
     "data": {
      "text/plain": [
       "Text(0, 0.5, 'minimax regret')"
      ]
     },
     "execution_count": 24,
     "metadata": {},
     "output_type": "execute_result"
    },
    {
     "data": {
      "image/png": "[encoded data removed]",
      "text/plain": [
       "<Figure size 432x288 with 1 Axes>"
      ]
     },
     "metadata": {
      "needs_background": "light"
     },
     "output_type": "display_data"
    }
   ],
   "source": [
    "mean_regrets = np.zeros((len(sizes),max(sizes)))\n",
    "for i,regrets in enumerate(L):\n",
    "    mean_regrets[i,:len(regrets)] = regrets\n",
    "\n",
    "plt.plot(mean_regrets.mean(0), 'o-')\n",
    "plt.xlabel('nombre de questions')\n",
    "plt.ylabel('minimax regret')"
   ]
  },
  {
   "cell_type": "code",
   "execution_count": 25,
   "id": "a20393a9",
   "metadata": {},
   "outputs": [
    {
     "name": "stderr",
     "output_type": "stream",
     "text": [
      "/var/folders/yd/v7_2g2ys6dlc_jwd4rjdgsj00000gn/T/ipykernel_55391/1368715817.py:1: VisibleDeprecationWarning: Creating an ndarray from ragged nested sequences (which is a list-or-tuple of lists-or-tuples-or ndarrays with different lengths or shapes) is deprecated. If you meant to do this, you must specify 'dtype=object' when creating the ndarray.\n",
      "  L = np.array(L)\n"
     ]
    }
   ],
   "source": [
    "L = np.array(L)"
   ]
  },
  {
   "cell_type": "code",
   "execution_count": 29,
   "id": "bbad987f",
   "metadata": {},
   "outputs": [],
   "source": [
    "np.savetxt('minmax_regrets',mean_regrets)"
   ]
  },
  {
   "cell_type": "code",
   "execution_count": null,
   "id": "437ca71f",
   "metadata": {},
   "outputs": [],
   "source": []
  }
 ],
 "metadata": {
  "kernelspec": {
   "display_name": "Python 3 (ipykernel)",
   "language": "python",
   "name": "python3"
  },
  "language_info": {
   "codemirror_mode": {
    "name": "ipython",
    "version": 3
   },
   "file_extension": ".py",
   "mimetype": "text/x-python",
   "name": "python",
   "nbconvert_exporter": "python",
   "pygments_lexer": "ipython3",
   "version": "3.9.7"
  }
 },
 "nbformat": 4,
 "nbformat_minor": 5
}
