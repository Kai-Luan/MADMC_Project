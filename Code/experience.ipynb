{
 "cells": [
  {
   "cell_type": "code",
   "execution_count": 1,
   "id": "3fd62523",
   "metadata": {},
   "outputs": [],
   "source": [
    "import numpy as np\n",
    "import matplotlib.pyplot as plt\n",
    "from utils import *\n",
    "from read_file import *\n",
    "from indicators import *\n",
    "import os"
   ]
  },
  {
   "cell_type": "markdown",
   "id": "12135215",
   "metadata": {},
   "source": [
    "## Première procédure de résolution\n",
    "### Phase I"
   ]
  },
  {
   "cell_type": "code",
   "execution_count": 4,
   "id": "c085307e",
   "metadata": {},
   "outputs": [
    {
     "name": "stdout",
     "output_type": "stream",
     "text": [
      "(50,) (50, 3) 13299\n"
     ]
    }
   ],
   "source": [
    "## Loading data\n",
    "n = 200\n",
    "p = 6\n",
    "filename = f\"./data/2KP200-TA-0.dat\"\n",
    "\n",
    "w=np.zeros(n,dtype=int) # poids des objets\n",
    "v=np.zeros((n,p),dtype=int) # utilités des objets\n",
    "W = readFile(filename,w,v)\n",
    "\n",
    "# ====== On prend un sous-ensemble du problème ====\n",
    "n = 50\n",
    "p = 3\n",
    "w = w[:n]\n",
    "v = v[:n,:p]\n",
    "W = w.sum()//2\n",
    "print(w.shape, v.shape, W)"
   ]
  },
  {
   "cell_type": "code",
   "execution_count": 29,
   "id": "92bd3e49",
   "metadata": {},
   "outputs": [
    {
     "name": "stdout",
     "output_type": "stream",
     "text": [
      "nombre de points non-dominés trouvés: 272\n"
     ]
    }
   ],
   "source": [
    "## Phase I: generate non-dominated solution with PLS\n",
    "params = (n,p,v,w,W)\n",
    "m = 20\n",
    "verbose = True\n",
    "NBMAX = 20\n",
    "\n",
    "YND = PLS(m,params,NBMAX,verbose= False)\n",
    "points = list(map(lambda x: x[1], YND))\n",
    "points = np.array(points)\n",
    "print(f'nombre de points non-dominés trouvés: {len(points)}')"
   ]
  },
  {
   "cell_type": "code",
   "execution_count": 2,
   "id": "4319967a",
   "metadata": {},
   "outputs": [
    {
     "data": {
      "text/plain": [
       "(272, 3)"
      ]
     },
     "execution_count": 2,
     "metadata": {},
     "output_type": "execute_result"
    }
   ],
   "source": [
    "# On sauvegarde les points dans l'espace des critères\n",
    "file_output = './sol/I2dim.sol'\n",
    "if not os.path.isfile(file_output):\n",
    "    np.savetxt(file_output, points)\n",
    "points = np.loadtxt(file_output)\n",
    "points = points.astype(int)\n",
    "YND = [(None,p) for p in points]\n",
    "points.shape"
   ]
  },
  {
   "cell_type": "markdown",
   "id": "0fdd5dd1",
   "metadata": {},
   "source": [
    "### Phase II: "
   ]
  },
  {
   "cell_type": "code",
   "execution_count": 3,
   "id": "25791a6f",
   "metadata": {
    "scrolled": true
   },
   "outputs": [
    {
     "data": {
      "text/plain": [
       "array([20260, 19926, 18312])"
      ]
     },
     "execution_count": 3,
     "metadata": {},
     "output_type": "execute_result"
    }
   ],
   "source": [
    "# On génère les paramètres du décideur\n",
    "mode = 'Choquet'\n",
    "p = points.shape[1]\n",
    "DM = DecisionMaker(p, mode)\n",
    "\n",
    "# Solution optimale pour le décideur\n",
    "scores = [DM.value(y) for y in YND]\n",
    "opt = points[np.argmax(scores)]\n",
    "opt"
   ]
  },
  {
   "cell_type": "code",
   "execution_count": null,
   "id": "8d1130e7",
   "metadata": {
    "scrolled": true
   },
   "outputs": [
    {
     "name": "stdout",
     "output_type": "stream",
     "text": [
      "Set parameter Username\n",
      "Academic license - for non-commercial use only - expires 2024-12-03\n",
      "Init Choquet Model\n",
      "Start | regret = 0.31\n",
      "[20507 19325 17899] [18773 20937 16314]\n",
      "iteration = 1 | regret = 0.28\n",
      "[20688 18746 18038] [20165 20241 16361]\n",
      "iteration = 2 | regret = 0.26\n",
      "[20663 18524 18138] [21989 17434 14928]\n",
      "iteration = 3 | regret = 0.16\n",
      "[19736 18878 18717] [20929 19710 17630]\n",
      "iteration = 4 | regret = 0.10\n",
      "[20929 19710 17630] [18411 20722 17940]\n"
     ]
    }
   ],
   "source": [
    "eps = 1e-4\n",
    "model = Model(dim=p, mode=mode)\n",
    "\n",
    "o1, o2, regret = model.CSS(YND)\n",
    "minmax_regrets = [regret]\n",
    "\n",
    "print(f'Start | {regret =: .2f}')\n",
    "print(o1[1], o2[1])\n",
    "iteration = 1\n",
    "while regret > eps:\n",
    "    if DM.ask(o1, o2): model.update(o1,o2)\n",
    "    else: model.update(o2,o1)\n",
    "    o1, o2, regret = model.CSS(YND)\n",
    "    minmax_regrets.append(regret)\n",
    "    print(f'{iteration = } | {regret =: .2f}')\n",
    "    print(o1[1], o2[1])\n",
    "    iteration += 1"
   ]
  },
  {
   "cell_type": "code",
   "execution_count": 5,
   "id": "80f3547c",
   "metadata": {},
   "outputs": [
    {
     "data": {
      "text/plain": [
       "Text(0, 0.5, 'minimax regret')"
      ]
     },
     "execution_count": 5,
     "metadata": {},
     "output_type": "execute_result"
    },
    {
     "data": {
      "image/png": "[encoded data removed]",
      "text/plain": [
       "<Figure size 432x288 with 1 Axes>"
      ]
     },
     "metadata": {
      "needs_background": "light"
     },
     "output_type": "display_data"
    }
   ],
   "source": [
    "plt.plot(minmax_regrets, 'o-')\n",
    "plt.xlabel('number of queries')\n",
    "plt.ylabel('minimax regret')"
   ]
  },
  {
   "cell_type": "code",
   "execution_count": null,
   "id": "7e54ae34",
   "metadata": {},
   "outputs": [],
   "source": []
  }
 ],
 "metadata": {
  "kernelspec": {
   "display_name": "Python 3 (ipykernel)",
   "language": "python",
   "name": "python3"
  },
  "language_info": {
   "codemirror_mode": {
    "name": "ipython",
    "version": 3
   },
   "file_extension": ".py",
   "mimetype": "text/x-python",
   "name": "python",
   "nbconvert_exporter": "python",
   "pygments_lexer": "ipython3",
   "version": "3.9.7"
  }
 },
 "nbformat": 4,
 "nbformat_minor": 5
}
