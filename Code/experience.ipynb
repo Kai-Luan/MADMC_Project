{
 "cells": [
  {
   "cell_type": "code",
   "execution_count": 1,
   "id": "3fd62523",
   "metadata": {},
   "outputs": [],
   "source": [
    "import numpy as np\n",
    "import matplotlib.pyplot as plt\n",
    "from utils import *\n",
    "from read_file import *\n",
    "from indicators import *"
   ]
  },
  {
   "cell_type": "markdown",
   "id": "12135215",
   "metadata": {},
   "source": [
    "## Procedure I"
   ]
  },
  {
   "cell_type": "code",
   "execution_count": 24,
   "id": "c085307e",
   "metadata": {},
   "outputs": [
    {
     "name": "stdout",
     "output_type": "stream",
     "text": [
      "(50,) (50, 3) 13299\n"
     ]
    }
   ],
   "source": [
    "## Loading data\n",
    "n = 200\n",
    "p = 6\n",
    "filename = f\"./data/2KP200-TA-0.dat\"\n",
    "\n",
    "w=np.zeros(n,dtype=int) # poids des objets\n",
    "v=np.zeros((n,p),dtype=int) # utilités des objets\n",
    "W = readFile(filename,w,v)\n",
    "\n",
    "# ====== On prend un sous-ensemble du problème ====\n",
    "n = 50\n",
    "p = 3\n",
    "w = w[:n]\n",
    "v = v[:n,:p]\n",
    "W = w.sum()//2\n",
    "print(w.shape, v.shape, W)"
   ]
  },
  {
   "cell_type": "code",
   "execution_count": 29,
   "id": "92bd3e49",
   "metadata": {},
   "outputs": [
    {
     "name": "stdout",
     "output_type": "stream",
     "text": [
      "nombre de points non-dominés trouvés: 272\n"
     ]
    }
   ],
   "source": [
    "## Phase I: generate non-dominated solution with PLS\n",
    "params = (n,p,v,w,W)\n",
    "m = 20\n",
    "verbose = True\n",
    "NBMAX = 20\n",
    "\n",
    "YND = PLS(m,params,NBMAX,verbose= False)\n",
    "points = list(map(lambda x: x[1], YND))\n",
    "points = np.array(points)\n",
    "print(f'nombre de points non-dominés trouvés: {len(points)}')"
   ]
  },
  {
   "cell_type": "code",
   "execution_count": 32,
   "id": "4319967a",
   "metadata": {},
   "outputs": [],
   "source": [
    "# On sauvegarde les points dans l'espace des critères\n",
    "file_output = './sol/I2dim.sol'\n",
    "np.savetxt(file_output, points)\n",
    "points = np.loadtxt(file_output)\n",
    "points = points.astype(int)"
   ]
  },
  {
   "cell_type": "markdown",
   "id": "0fdd5dd1",
   "metadata": {},
   "source": [
    "## Procedure II"
   ]
  },
  {
   "cell_type": "code",
   "execution_count": 76,
   "id": "83c598a2",
   "metadata": {},
   "outputs": [],
   "source": [
    "class Model():\n",
    "    def __init__(self, dim, mode='EU'):\n",
    "        self.dim = dim\n",
    "        self.f_normalize = 0\n",
    "        self.mode = mode\n",
    "        \n",
    "        # gurobi\n",
    "        self.model = gp.Model()\n",
    "        self.model.Params.LogToConsole = 0\n",
    "        \n",
    "        if mode == 'EU':\n",
    "            self.init_eu_model()\n",
    "        elif mode == 'OWA':\n",
    "            self.init_owa_model()\n",
    "        elif mode == 'Choquet':\n",
    "            self.init_choquet_model()\n",
    "\n",
    "    def CSS(self, X):\n",
    "        PMR = self.compute_PMR(X)\n",
    "        MR = np.max(PMR,1)\n",
    "        i = np.argmin(MR)\n",
    "        j = np.argmax(PMR[i])\n",
    "        if self.f_normalize == 0: self.f_normalize = MR.max()\n",
    "        return X[i],X[j], MR[i]/self.f_normalize\n",
    "\n",
    "    def compute_PMR(self, X):\n",
    "        return [[self.optimize(y,x) for y in X] for x in X]\n",
    "    \n",
    "    def optimize(self, a, b):\n",
    "        if self.mode == 'EU': return self.optimize_eu(a, b)\n",
    "        elif self.mode == 'OWA': return self.optimize_owa(a, b)\n",
    "        elif self.model == 'Choquet': return self.optimize_choquet(a, b) \n",
    "        \n",
    "    def update(self, a, b):\n",
    "        if self.mode == 'EU': self.update_eu(a, b)\n",
    "        elif self.mode == 'OWA': self.update_owa(a, b)\n",
    "        elif self.model == 'Choquet': self.update_choquet(a, b) \n",
    "        self.model.update()\n",
    "    \n",
    "    # ====== EU aggregator ======\n",
    "    def init_eu_model(self):\n",
    "        m = self.model\n",
    "        self.w = np.array([m.addVar() for _ in range(self.dim)])\n",
    "        m.addConstr(sum(self.w) == 1)\n",
    "\n",
    "    def update_eu(self, a,b):\n",
    "        self.model.addConstr(sum((a-b)*self.w) >= 0)\n",
    "        \n",
    "\n",
    "    # Optimize with the OWA function\n",
    "    def optimize_eu(self, a, b=None):\n",
    "        if b is None: b = np.zeros(self.dim)\n",
    "        a, b = np.asarray(a), np.asarray(b)\n",
    "        self.model.setObjective(sum(self.w*(a-b)), GRB.MAXIMIZE)\n",
    "        self.model.update()\n",
    "        self.model.optimize()\n",
    "        return self.model.ObjVal\n",
    "\n",
    "    # ====== OWA aggregator ======\n",
    "    def init_owa_model(self):\n",
    "        m = self.model\n",
    "        w = np.array([m.addVar() for _ in range(self.dim)])\n",
    "        self.w = w\n",
    "        for i in range(self.dim-1):\n",
    "            m.addConstr(w[i]-w[i+1]>=0, f'c{i+1}')\n",
    "        m.addConstr(sum(w) == 1)\n",
    "\n",
    "    def update_owa(self, a,b):\n",
    "        a, b = np.sort(a), np.sort(b)\n",
    "        self.update_eu(a,b)\n",
    "\n",
    "    # Optimize with the OWA function\n",
    "    def optimize_owa(self, a, b=None):\n",
    "        if b is None: b = np.zeros(self.dim)\n",
    "        a.sort()\n",
    "        b.sort()\n",
    "        return self.optimize_eu(a,b)\n",
    "    \n",
    "    # ====== Choquet aggregator ======\n",
    "    # we use formulation with mass function\n",
    "    def init_choquet_model(self):\n",
    "        m = self.model\n",
    "        self.w = np.array([m.addVar() for _ in range((1<<self.dim))])\n",
    "        for x in self.w: # May be useless ?\n",
    "             m.addConstr(x >= 0)\n",
    "        m.addConstr(sum(self.w) == 1)\n",
    "        m.addConstr(w[0] == 0)\n",
    "\n",
    "    def update_choquet(self, a,b):\n",
    "        pass\n",
    "\n",
    "    # Optimize with the Choquet function\n",
    "    def optimize_choquet(self, a, b=None):\n",
    "        if b is None: b = np.zeros(self.dim)\n",
    "        a, b = self.compute_xbar(a), self.compute_xbar(b)\n",
    "        self.model.setObjective(sum(self.w*(a-b)), GRB.MAXIMIZE)\n",
    "        self.model.update()\n",
    "        self.model.optimize()\n",
    "        return self.model.ObjVal\n",
    "    \n",
    "    # compute xbar\n",
    "    # xbar[B] = min {x|x in B}\n",
    "    def compute_xbar(self, x):\n",
    "        xbar = [0]*((1<<self.dim))\n",
    "        xbar[0] = max(x)\n",
    "        Lmask = [0]   \n",
    "        for _ in range(self.dim):\n",
    "            new_masks = set()\n",
    "            for S in Lmask:\n",
    "                for i in range(self.dim):\n",
    "                    elt = 1 << i\n",
    "                    # si objet i est déjà dans le x\n",
    "                    if S & elt: continue\n",
    "                    xbar[S|elt] = min(xbar[S],x[i])\n",
    "                    print(bin(S|elt), bin(S)[2:], bin(elt)[2:])\n",
    "                    new_masks.add(S|elt)\n",
    "            Lmask = new_masks\n",
    "        xbar[0] = 0\n",
    "        return np.array(xbar)"
   ]
  },
  {
   "cell_type": "code",
   "execution_count": 53,
   "id": "25791a6f",
   "metadata": {
    "scrolled": true
   },
   "outputs": [
    {
     "name": "stdout",
     "output_type": "stream",
     "text": [
      "alpha:  [0.422 0.351 0.227]\n"
     ]
    },
    {
     "data": {
      "text/plain": [
       "array([18312, 19926, 20260])"
      ]
     },
     "execution_count": 53,
     "metadata": {},
     "output_type": "execute_result"
    }
   ],
   "source": [
    "# On génère les paramètres du décideur\n",
    "# fonction OWA\n",
    "p = points.shape[1]\n",
    "alpha = np.random.dirichlet(np.ones(p),size=1)[0]\n",
    "alpha.sort() # poids décroissante \n",
    "alpha = alpha[::-1]\n",
    "print('alpha: ', np.around(alpha,3))\n",
    "\n",
    "# Solution optimale pour le décideur\n",
    "owa_value = [owa(y, alpha) for y in points]\n",
    "opt = points[np.argmax(owa_value)]\n",
    "opt"
   ]
  },
  {
   "cell_type": "code",
   "execution_count": 54,
   "id": "8d1130e7",
   "metadata": {
    "scrolled": true
   },
   "outputs": [
    {
     "name": "stdout",
     "output_type": "stream",
     "text": [
      "regret = 0.07\n",
      "iteration = 1 | regret = 0.02\n",
      "[18312 19926 20260] [18893 18934 19552]\n",
      "iteration = 2 | regret = 0.00\n",
      "[18312 19926 20260] [18893 18934 19552]\n"
     ]
    },
    {
     "data": {
      "text/plain": [
       "Text(0, 0.5, 'minimax regret')"
      ]
     },
     "execution_count": 54,
     "metadata": {},
     "output_type": "execute_result"
    },
    {
     "data": {
      "image/png": "[encoded data removed]",
      "text/plain": [
       "<Figure size 432x288 with 1 Axes>"
      ]
     },
     "metadata": {
      "needs_background": "light"
     },
     "output_type": "display_data"
    }
   ],
   "source": [
    "eps = 1e-4\n",
    "model = Model(dim=p, mode='OWA')\n",
    "function = owa\n",
    "\n",
    "o1, o2, regret = model.CSS(points)\n",
    "minmax_regrets = [regret]\n",
    "\n",
    "\n",
    "print(f'{regret =: .2f}')\n",
    "iteration = 1\n",
    "while regret > eps:\n",
    "    if np.array_equal(o1, o2): break\n",
    "    if function(o1,alpha) >= function(o2, alpha): \n",
    "        model.update(o1,o2)\n",
    "    else: \n",
    "        model.update(o2,o1)\n",
    "    o1, o2, regret = model.CSS(points)\n",
    "    minmax_regrets.append(regret)\n",
    "    print(f'{iteration = } | {regret =: .2f}')\n",
    "    print(o1, o2)\n",
    "    iteration += 1\n",
    "    \n",
    "plt.plot(minmax_regrets)\n",
    "plt.xlabel('number of queries')\n",
    "plt.ylabel('minimax regret')"
   ]
  },
  {
   "cell_type": "code",
   "execution_count": null,
   "id": "80f3547c",
   "metadata": {},
   "outputs": [],
   "source": []
  },
  {
   "cell_type": "code",
   "execution_count": null,
   "id": "d46dc7df",
   "metadata": {},
   "outputs": [],
   "source": []
  }
 ],
 "metadata": {
  "kernelspec": {
   "display_name": "Python 3 (ipykernel)",
   "language": "python",
   "name": "python3"
  },
  "language_info": {
   "codemirror_mode": {
    "name": "ipython",
    "version": 3
   },
   "file_extension": ".py",
   "mimetype": "text/x-python",
   "name": "python",
   "nbconvert_exporter": "python",
   "pygments_lexer": "ipython3",
   "version": "3.9.7"
  }
 },
 "nbformat": 4,
 "nbformat_minor": 5
}
