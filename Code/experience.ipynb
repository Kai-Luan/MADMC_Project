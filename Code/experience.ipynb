{
 "cells": [
  {
   "cell_type": "code",
   "execution_count": 1,
   "id": "3fd62523",
   "metadata": {},
   "outputs": [],
   "source": [
    "import numpy as np\n",
    "import matplotlib.pyplot as plt\n",
    "from utils import *\n",
    "from read_file import *\n",
    "from indicators import *"
   ]
  },
  {
   "cell_type": "markdown",
   "id": "12135215",
   "metadata": {},
   "source": [
    "## Procedure I"
   ]
  },
  {
   "cell_type": "code",
   "execution_count": 5,
   "id": "c085307e",
   "metadata": {},
   "outputs": [
    {
     "name": "stdout",
     "output_type": "stream",
     "text": [
      "(200, 2)\n",
      "iteration = 1 | population size: 20\n"
     ]
    },
    {
     "name": "stderr",
     "output_type": "stream",
     "text": [
      "100%|███████████████████████████████████████████| 20/20 [00:02<00:00,  7.87it/s]\n"
     ]
    },
    {
     "name": "stdout",
     "output_type": "stream",
     "text": [
      "iteration = 2 | population size: 138\n"
     ]
    },
    {
     "name": "stderr",
     "output_type": "stream",
     "text": [
      "100%|█████████████████████████████████████████| 138/138 [00:15<00:00,  8.90it/s]\n"
     ]
    },
    {
     "name": "stdout",
     "output_type": "stream",
     "text": [
      "iteration = 3 | population size: 167\n"
     ]
    },
    {
     "name": "stderr",
     "output_type": "stream",
     "text": [
      "100%|█████████████████████████████████████████| 167/167 [00:17<00:00,  9.28it/s]\n"
     ]
    },
    {
     "name": "stdout",
     "output_type": "stream",
     "text": [
      "iteration = 4 | population size: 110\n"
     ]
    },
    {
     "name": "stderr",
     "output_type": "stream",
     "text": [
      "100%|█████████████████████████████████████████| 110/110 [00:12<00:00,  9.11it/s]\n"
     ]
    },
    {
     "name": "stdout",
     "output_type": "stream",
     "text": [
      "iteration = 5 | population size: 71\n"
     ]
    },
    {
     "name": "stderr",
     "output_type": "stream",
     "text": [
      "100%|███████████████████████████████████████████| 71/71 [00:07<00:00,  8.95it/s]\n"
     ]
    },
    {
     "name": "stdout",
     "output_type": "stream",
     "text": [
      "iteration = 6 | population size: 48\n"
     ]
    },
    {
     "name": "stderr",
     "output_type": "stream",
     "text": [
      "100%|███████████████████████████████████████████| 48/48 [00:03<00:00, 12.59it/s]\n"
     ]
    },
    {
     "name": "stdout",
     "output_type": "stream",
     "text": [
      "iteration = 7 | population size: 18\n"
     ]
    },
    {
     "name": "stderr",
     "output_type": "stream",
     "text": [
      "100%|███████████████████████████████████████████| 18/18 [00:01<00:00, 12.77it/s]\n"
     ]
    },
    {
     "name": "stdout",
     "output_type": "stream",
     "text": [
      "iteration = 8 | population size: 5\n"
     ]
    },
    {
     "name": "stderr",
     "output_type": "stream",
     "text": [
      "100%|█████████████████████████████████████████████| 5/5 [00:00<00:00, 10.49it/s]\n"
     ]
    }
   ],
   "source": [
    "## Loading data\n",
    "numInstance=1\n",
    "n= 200\n",
    "p = 2\n",
    "w=np.zeros(n,dtype=int) # poids des objets\n",
    "v=np.zeros((n,p),dtype=int) # utilités des objets\n",
    "filename = f\"./data/2KP{n}-TA-{numInstance}.dat\"\n",
    "print(v.shape)\n",
    "# W: budget\n",
    "W=readFile(filename,w,v)\n",
    "\n",
    "## Phase I: generate non-dominated solution with PLS\n",
    "params = (n,p,v,w,W)\n",
    "m = 20\n",
    "verbose = True\n",
    "NBMAX = 20\n",
    "\n",
    "YND = PLS(m,params,NBMAX,verbose= True)\n",
    "points = list(map(lambda x: x[1], YND))\n",
    "points = np.array(points)"
   ]
  },
  {
   "cell_type": "code",
   "execution_count": 9,
   "id": "4017aa68",
   "metadata": {
    "scrolled": true
   },
   "outputs": [
    {
     "data": {
      "image/png": "[encoded data removed]",
      "text/plain": [
       "<Figure size 432x288 with 1 Axes>"
      ]
     },
     "metadata": {
      "needs_background": "light"
     },
     "output_type": "display_data"
    }
   ],
   "source": [
    "plt.scatter(*points.T)\n",
    "plt.title(\"Points dans l'espace des critère\")\n",
    "plt.xlabel(\"v1\")\n",
    "plt.ylabel(\"v2\")\n",
    "plt.show()"
   ]
  },
  {
   "cell_type": "code",
   "execution_count": 7,
   "id": "4319967a",
   "metadata": {},
   "outputs": [],
   "source": [
    "np.savetxt('./sol/I2dim.sol', points)"
   ]
  },
  {
   "cell_type": "code",
   "execution_count": 15,
   "id": "79ef0e55",
   "metadata": {},
   "outputs": [],
   "source": [
    "points = np.loadtxt('./sol/I2dim.sol')\n",
    "points = points.astype(int)"
   ]
  },
  {
   "cell_type": "markdown",
   "id": "0fdd5dd1",
   "metadata": {},
   "source": [
    "## Procedure II"
   ]
  },
  {
   "cell_type": "code",
   "execution_count": 19,
   "id": "83c598a2",
   "metadata": {},
   "outputs": [],
   "source": [
    "class Model():\n",
    "\tdef __init__(self, dim):\n",
    "\t\tself.model = None\n",
    "\t\tself.dim = dim\n",
    "\n",
    "\t# OWA aggregator model\n",
    "\tdef init_owa_model(self):\n",
    "\t\tself.model = gp.Model('ModelEU')\n",
    "\t\tself.model.Params.LogToConsole = 0\n",
    "\t\tm = self.model\n",
    "\t\tw = np.array([m.addVar() for _ in range(self.dim)])\n",
    "\t\tself.w = w\n",
    "\t\tfor i in range(self.dim-1):\n",
    "\t\t\tm.addConstr(w[i]-w[i+1]>=0, f'c{i+1}')\n",
    "\t\tm.addConstr(sum(w) == 1)\n",
    "\n",
    "\tdef update_owa(self, a,b):\n",
    "\t\ta, b = np.sort(a), np.sort(b)\n",
    "\t\t#self.model.Params.LogToConsole = 1\n",
    "\t\t#self.model.display()\n",
    "\t\tself.model.addConstr(sum((a-b)*self.w) >= 0)\n",
    "\t\tself.model.update()\n",
    "\t\t#self.model.display()\n",
    "\n",
    "\t# Optimize with the OWA function\n",
    "\tdef optimize(self, a, b=None):\n",
    "\t\tif b is None: b = np.zeros(self.dim)\n",
    "\t\ta, b = np.asarray(a), np.asarray(b)\n",
    "\t\ta.sort()\n",
    "\t\tb.sort()\n",
    "\t\tself.model.setObjective(sum(self.w*(a-b)), GRB.MAXIMIZE)\n",
    "\t\tself.model.update()\n",
    "\t\tself.model.optimize()\n",
    "\t\treturn self.model.ObjVal\n",
    "\n",
    "\tdef CSS(self, X):\n",
    "\t\tPMR = [[self.optimize(y,x) for y in X] for x in X]\n",
    "\t\ti = np.argmin(np.max(PMR,1))\n",
    "\t\tj = np.argmax(PMR[i])\n",
    "\t\treturn (X[i],X[j])"
   ]
  },
  {
   "cell_type": "code",
   "execution_count": 20,
   "id": "25791a6f",
   "metadata": {},
   "outputs": [
    {
     "name": "stdout",
     "output_type": "stream",
     "text": [
      "alpha:  0.6525787077519826 0.34742129224801754\n"
     ]
    },
    {
     "data": {
      "text/plain": [
       "array([75911, 79095])"
      ]
     },
     "execution_count": 20,
     "metadata": {},
     "output_type": "execute_result"
    }
   ],
   "source": [
    "p = 2\n",
    "alpha = np.random.dirichlet(np.ones(p),size=1)[0]\n",
    "alpha.sort()\n",
    "alpha = alpha[::-1]\n",
    "print('alpha: ', *alpha)\n",
    "\n",
    "owa_value = [owa(y, alpha) for y in points]\n",
    "opt = points[np.argmax(owa_value)]\n",
    "opt"
   ]
  },
  {
   "cell_type": "code",
   "execution_count": 21,
   "id": "8d1130e7",
   "metadata": {
    "scrolled": true
   },
   "outputs": [
    {
     "name": "stdout",
     "output_type": "stream",
     "text": [
      "iteration = 1\n",
      "[76376 77880] [74274 81869]\n",
      "iteration = 2\n",
      "[74897 80899] [74274 81869]\n",
      "iteration = 3\n",
      "[75306 80211] [74471 81589]\n",
      "iteration = 4\n",
      "[75306 80211] [75911 79095]\n",
      "iteration = 5\n",
      "[75911 79095] [75626 79621]\n",
      "iteration = 6\n",
      "[75911 79095] [75911 79095]\n"
     ]
    }
   ],
   "source": [
    "model = Model(dim=p)\n",
    "model.init_owa_model()\n",
    "\n",
    "o1, o2 = model.CSS(points)\n",
    "iteration = 1\n",
    "for _ in range(100):\n",
    "    if np.array_equal(o1, o2): break\n",
    "    if owa(o1,alpha) >= owa(o2, alpha):\n",
    "        model.update_owa(o1,o2)\n",
    "    else:\n",
    "        model.update_owa(o2,o1)\n",
    "    print(f'{iteration = }')\n",
    "    o1, o2 = model.CSS(points)\n",
    "    print(o1, o2)\n",
    "    iteration += 1"
   ]
  },
  {
   "cell_type": "code",
   "execution_count": null,
   "id": "b1c60a42",
   "metadata": {},
   "outputs": [],
   "source": []
  },
  {
   "cell_type": "code",
   "execution_count": null,
   "id": "80f3547c",
   "metadata": {},
   "outputs": [],
   "source": []
  },
  {
   "cell_type": "code",
   "execution_count": null,
   "id": "d46dc7df",
   "metadata": {},
   "outputs": [],
   "source": []
  }
 ],
 "metadata": {
  "kernelspec": {
   "display_name": "Python 3 (ipykernel)",
   "language": "python",
   "name": "python3"
  },
  "language_info": {
   "codemirror_mode": {
    "name": "ipython",
    "version": 3
   },
   "file_extension": ".py",
   "mimetype": "text/x-python",
   "name": "python",
   "nbconvert_exporter": "python",
   "pygments_lexer": "ipython3",
   "version": "3.9.7"
  }
 },
 "nbformat": 4,
 "nbformat_minor": 5
}
