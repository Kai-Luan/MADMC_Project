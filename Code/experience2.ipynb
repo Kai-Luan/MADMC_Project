{
 "cells": [
  {
   "cell_type": "code",
   "execution_count": 1,
   "id": "3fd62523",
   "metadata": {},
   "outputs": [],
   "source": [
    "import numpy as np\n",
    "import matplotlib.pyplot as plt\n",
    "from utils import *\n",
    "from read_file import *\n",
    "from indicators import *\n",
    "import os"
   ]
  },
  {
   "cell_type": "markdown",
   "id": "12135215",
   "metadata": {},
   "source": [
    "## Deuxième procédure de résolution"
   ]
  },
  {
   "cell_type": "code",
   "execution_count": 4,
   "id": "c085307e",
   "metadata": {},
   "outputs": [
    {
     "name": "stdout",
     "output_type": "stream",
     "text": [
      "(50,) (50, 3) 13299\n"
     ]
    }
   ],
   "source": [
    "## Loading data\n",
    "n = 200\n",
    "p = 6\n",
    "filename = f\"./data/2KP200-TA-0.dat\"\n",
    "\n",
    "w=np.zeros(n,dtype=int) # poids des objets\n",
    "v=np.zeros((n,p),dtype=int) # utilités des objets\n",
    "W = readFile(filename,w,v)\n",
    "\n",
    "# ====== On prend un sous-ensemble du problème ====\n",
    "n = 50\n",
    "p = 3\n",
    "w = w[:n]\n",
    "v = v[:n,:p]\n",
    "W = w.sum()//2\n",
    "print(w.shape, v.shape, W)"
   ]
  },
  {
   "cell_type": "code",
   "execution_count": 11,
   "id": "92bd3e49",
   "metadata": {},
   "outputs": [
    {
     "name": "stdout",
     "output_type": "stream",
     "text": [
      "Init EU Model\n",
      "it = 0\n",
      "solution: 0.4836888331242158\n",
      "[18127 17132 16950]\n",
      "\n",
      "it = 1\n",
      "solution: 0.32559598494353825\n",
      "[17476 16772 17469]\n",
      "\n",
      "it = 2\n",
      "solution: 0.30876087526024787\n",
      "[16843 16737 17970]\n",
      "\n",
      "it = 3\n",
      "solution: 0.30876087526024787\n",
      "[16174 15986 18483]\n",
      "\n",
      "it = 4\n",
      "solution: 0.07194217325961366\n",
      "[16003 15962 18600]\n",
      "\n",
      "it = 5\n",
      "solution: 0.005301885374977319\n",
      "[15871 15510 18650]\n",
      "\n",
      "it = 6\n"
     ]
    }
   ],
   "source": [
    "params = (n,p,v,w,W)\n",
    "mode = 'EU'\n",
    "DM = DecisionMaker(p, mode)\n",
    "opt = RBLS(params, mode=mode)"
   ]
  },
  {
   "cell_type": "code",
   "execution_count": null,
   "id": "9a37ee8e",
   "metadata": {},
   "outputs": [],
   "source": []
  }
 ],
 "metadata": {
  "kernelspec": {
   "display_name": "Python 3 (ipykernel)",
   "language": "python",
   "name": "python3"
  },
  "language_info": {
   "codemirror_mode": {
    "name": "ipython",
    "version": 3
   },
   "file_extension": ".py",
   "mimetype": "text/x-python",
   "name": "python",
   "nbconvert_exporter": "python",
   "pygments_lexer": "ipython3",
   "version": "3.9.7"
  }
 },
 "nbformat": 4,
 "nbformat_minor": 5
}
