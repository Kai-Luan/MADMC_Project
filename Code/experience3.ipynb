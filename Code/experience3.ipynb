{
 "cells": [
  {
   "cell_type": "code",
   "execution_count": 1,
   "id": "3fd62523",
   "metadata": {},
   "outputs": [],
   "source": [
    "import numpy as np\n",
    "import matplotlib.pyplot as plt\n",
    "from utils import *\n",
    "from read_file import *\n",
    "from indicators import *\n",
    "import os"
   ]
  },
  {
   "cell_type": "markdown",
   "id": "12135215",
   "metadata": {},
   "source": [
    "## Données et comparaison des 2 méthodes"
   ]
  },
  {
   "cell_type": "code",
   "execution_count": 2,
   "id": "c085307e",
   "metadata": {},
   "outputs": [
    {
     "name": "stdout",
     "output_type": "stream",
     "text": [
      "(50,) (50, 3) 13299\n"
     ]
    }
   ],
   "source": [
    "## Loading data\n",
    "n = 200\n",
    "p = 6\n",
    "filename = f\"./data/2KP200-TA-0.dat\"\n",
    "\n",
    "w=np.zeros(n,dtype=int) # poids des objets\n",
    "v=np.zeros((n,p),dtype=int) # utilités des objets\n",
    "W = readFile(filename,w,v)\n",
    "\n",
    "# ====== On prend un sous-ensemble du problème ====\n",
    "n = 50\n",
    "p = 3\n",
    "w = w[:n]\n",
    "v = v[:n,:p]\n",
    "W = w.sum()//2\n",
    "print(w.shape, v.shape, W)"
   ]
  },
  {
   "cell_type": "code",
   "execution_count": 7,
   "id": "92bd3e49",
   "metadata": {
    "scrolled": true
   },
   "outputs": [
    {
     "name": "stdout",
     "output_type": "stream",
     "text": [
      "======= it = 0 ========\n",
      "(50,)\n",
      "Optimal:  [19376 18691 19154]\n",
      "Procedure 1\n",
      "Init EU Model\n",
      "it = 1 | regret = 0.26 | [20260 19926 18312] [18773 20937 16314]\n",
      "it = 2 | regret = 0.20 | [20016 19505 18468] [18315 18375 19253]\n",
      "it = 3 | regret = 0.05 | [19326 18843 19077] [18804 20057 18535]\n",
      "it = 4 | regret = 0.03 | [19376 18691 19154] [18315 18375 19253]\n",
      "it = 5 | regret = 0.01 | [19376 18691 19154] [19562 18331 19149]\n",
      "it = 6 | regret = 0.01 | [19376 18691 19154] [19131 17957 19234]\n",
      "it = 7 | regret = 0.00 | [19376 18691 19154] [17771 19908 18626]\n",
      "it = 8 | regret = 0.00 | [19376 18691 19154] [18832 18228 19234]\n",
      "Procedure 2\n",
      "Init EU Model\n",
      "it = 0 | voisins: 267\n",
      "solution: 0.4836888331242158\n",
      "[18127 17132 16950]\n",
      "\n",
      "it = 1 | voisins: 375\n",
      "solution: 0.296657289910049\n",
      "[17494 17097 17451]\n",
      "\n",
      "it = 2 | voisins: 388\n",
      "solution: 0.296657289910049\n",
      "[16843 16737 17970]\n",
      "\n",
      "it = 3 | voisins: 433\n",
      "solution: 0.28021809189709224\n",
      "[16174 15986 18483]\n",
      "\n",
      "it = 4 | voisins: 299\n",
      "solution: 0.06875820771040088\n",
      "[16003 15962 18600]\n",
      "\n",
      "it = 5 | voisins: 335\n",
      "solution: 0.04231400421661919\n",
      "[15380 16212 18639]\n",
      "\n",
      "it = 6 | voisins: 336\n",
      "======= it = 1 ========\n",
      "(50,)\n",
      "Optimal:  [20929 19710 17630]\n",
      "Procedure 1\n",
      "Init EU Model\n",
      "it = 1 | regret = 0.24 | [20925 19723 16937] [21989 17434 14928]\n",
      "it = 2 | regret = 0.17 | [20238 20051 17769] [18588 20781 16554]\n",
      "it = 3 | regret = 0.11 | [20260 19926 18312] [21414 18924 14979]\n",
      "it = 4 | regret = 0.08 | [20260 19926 18312] [18411 20722 17940]\n",
      "it = 5 | regret = 0.07 | [20260 19926 18312] [21376 16961 17069]\n",
      "it = 6 | regret = 0.07 | [20260 19926 18312] [19681 20613 16803]\n",
      "it = 7 | regret = 0.06 | [20260 19926 18312] [20929 19710 17630]\n",
      "it = 8 | regret = 0.05 | [20929 19710 17630] [20544 18165 18500]\n",
      "it = 9 | regret = 0.01 | [20929 19710 17630] [20939 19107 17886]\n",
      "it = 10 | regret = 0.00 | [20929 19710 17630] [20750 20004 16453]\n",
      "it = 11 | regret = 0.00 | [20929 19710 17630] [19681 20613 16803]\n",
      "Procedure 2\n",
      "Init EU Model\n",
      "it = 0 | voisins: 267\n",
      "solution: 0.15673317099862297\n",
      "[19219 17739 15598]\n",
      "\n",
      "it = 1 | voisins: 293\n",
      "solution: 0.17400231103793373\n",
      "[19951 17379 14786]\n",
      "\n",
      "it = 2 | voisins: 281\n"
     ]
    }
   ],
   "source": [
    "from time import time\n",
    "params = (n,p,v,w,W)\n",
    "\n",
    "def gap(opt, sol):\n",
    "    return (opt - sol)*100 / opt\n",
    "\n",
    "def value(x, v):\n",
    "    print(x.shape)\n",
    "    return v[x==1, :].sum(0)\n",
    "\n",
    "def step(params, mode='EU', m = 20, verbose=False):\n",
    "    DM = DecisionMaker(p, mode)\n",
    "    DM_opt = DM.get_opt(params)\n",
    "    print('Optimal: ', value(DM_opt[0], params[2]))\n",
    "\n",
    "    # Procedure 1\n",
    "    DM.nb_questions\n",
    "    print('Procedure 1')\n",
    "    tps = time()\n",
    "    opt = RBGS(m, params, mode=mode, DM=DM, verbose=verbose)\n",
    "    tps = time() - tps\n",
    "    n = DM.nb_questions\n",
    "    g = gap(DM_opt[1], DM.value(opt))\n",
    "    res1 = (n, g, tps)\n",
    "    \n",
    "    DM.nb_questions = 0\n",
    "\n",
    "    #Procedure 2\n",
    "    print('Procedure 2')\n",
    "    tps = time()\n",
    "    opt = RBLS(params, mode=mode, DM=DM, verbose=verbose)\n",
    "    tps = time() - tps\n",
    "    n = DM.nb_questions\n",
    "    g = gap(DM_opt[1], DM.value(opt))\n",
    "    res2 = (n, g, tps)\n",
    "    \n",
    "    DM.nb_questions = 0\n",
    "    return res1, res2\n",
    "\n",
    "P1 = []\n",
    "P2 = []\n",
    "mode = 'EU'\n",
    "m = 20\n",
    "\n",
    "for it in range(2):\n",
    "    print(f'======= {it = } ========')\n",
    "    res1, res2 = step(params, mode, m, verbose=True)\n",
    "    P1.append(res1)\n",
    "    P2.append(res2)"
   ]
  },
  {
   "cell_type": "code",
   "execution_count": 8,
   "id": "a15cbdb6",
   "metadata": {},
   "outputs": [
    {
     "data": {
      "text/plain": [
       "[(8, 1.9058141555214653e-14, 46.22152590751648), (11, 0.0, 73.56898212432861)]"
      ]
     },
     "execution_count": 8,
     "metadata": {},
     "output_type": "execute_result"
    }
   ],
   "source": [
    "P1"
   ]
  },
  {
   "cell_type": "code",
   "execution_count": null,
   "id": "9a37ee8e",
   "metadata": {},
   "outputs": [],
   "source": [
    "P1 = np.array(P1)\n",
    "P2 = np.array(P2)\n",
    "np.savetxt('P1.txt', P1)\n",
    "np.savetxt('P2.txt', P2)"
   ]
  },
  {
   "cell_type": "code",
   "execution_count": null,
   "id": "c3f6cbc8",
   "metadata": {},
   "outputs": [],
   "source": []
  }
 ],
 "metadata": {
  "kernelspec": {
   "display_name": "Python 3 (ipykernel)",
   "language": "python",
   "name": "python3"
  },
  "language_info": {
   "codemirror_mode": {
    "name": "ipython",
    "version": 3
   },
   "file_extension": ".py",
   "mimetype": "text/x-python",
   "name": "python",
   "nbconvert_exporter": "python",
   "pygments_lexer": "ipython3",
   "version": "3.9.7"
  }
 },
 "nbformat": 4,
 "nbformat_minor": 5
}
