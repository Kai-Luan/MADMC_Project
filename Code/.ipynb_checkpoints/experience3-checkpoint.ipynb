{
 "cells": [
  {
   "cell_type": "code",
   "execution_count": 1,
   "id": "3fd62523",
   "metadata": {},
   "outputs": [],
   "source": [
    "import numpy as np\n",
    "import matplotlib.pyplot as plt\n",
    "from utils import *\n",
    "from read_file import *\n",
    "from indicators import *\n",
    "import os"
   ]
  },
  {
   "cell_type": "markdown",
   "id": "12135215",
   "metadata": {},
   "source": [
    "## Données et comparaison des 2 méthodes"
   ]
  },
  {
   "cell_type": "code",
   "execution_count": 2,
   "id": "c085307e",
   "metadata": {},
   "outputs": [
    {
     "name": "stdout",
     "output_type": "stream",
     "text": [
      "(50,) (50, 3) 13299\n"
     ]
    }
   ],
   "source": [
    "## Loading data\n",
    "n = 200\n",
    "p = 6\n",
    "filename = f\"./data/2KP200-TA-0.dat\"\n",
    "\n",
    "w=np.zeros(n,dtype=int) # poids des objets\n",
    "v=np.zeros((n,p),dtype=int) # utilités des objets\n",
    "W = readFile(filename,w,v)\n",
    "\n",
    "# ====== On prend un sous-ensemble du problème ====\n",
    "n = 50\n",
    "p = 3\n",
    "w = w[:n]\n",
    "v = v[:n,:p]\n",
    "W = w.sum()//2\n",
    "print(w.shape, v.shape, W)"
   ]
  },
  {
   "cell_type": "code",
   "execution_count": 5,
   "id": "92bd3e49",
   "metadata": {
    "scrolled": false
   },
   "outputs": [
    {
     "name": "stdout",
     "output_type": "stream",
     "text": [
      "======= it = 0 ========\n",
      "(50,)\n",
      "Optimal:  [21989 17434 14928]\n",
      "Procedure 1\n",
      "Init EU Model\n",
      "it = 1 | regret = 0.09 | [21585 18281 15887] [21332 18308 17456]\n",
      "it = 2 | regret = 0.05 | [21332 18308 17456] [20929 19710 17630]\n",
      "it = 3 | regret = 0.04 | [21486 17697 16802] [21989 17434 14928]\n",
      "it = 4 | regret = 0.02 | [21743 17657 15926] [21267 19041 17000]\n",
      "it = 5 | regret = 0.02 | [21989 17434 14928] [21332 18308 17456]\n",
      "it = 6 | regret = 0.00 | [21989 17434 14928] [21575 18884 15631]\n",
      "it = 7 | regret = 0.00 | [21989 17434 14928] [21743 17657 15926]\n",
      "it = 8 | regret = 0.00 | [21989 17434 14928] [21332 18308 17456]\n",
      "Procedure 2\n",
      "Init EU Model\n",
      "it = 0 | voisins: 267\n",
      "solution: 0.4077791718946048\n",
      "[19304 17158 15671]\n",
      "\n",
      "it = 1 | voisins: 578\n",
      "solution: 0.4592220828105395\n",
      "[20036 16798 14859]\n",
      "\n",
      "it = 2 | voisins: 571\n",
      "solution: 0.21819840532538454\n",
      "[20466 16515 14304]\n",
      "\n",
      "it = 3 | voisins: 595\n",
      "solution: 0.14831019549115634\n",
      "[20828 15903 13945]\n",
      "\n",
      "it = 4 | voisins: 293\n",
      "======= it = 1 ========\n",
      "(50,)\n",
      "Optimal:  [20260 19926 18312]\n",
      "Procedure 1\n",
      "Init EU Model\n",
      "it = 1 | regret = 0.26 | [20260 19926 18312] [18773 20937 16314]\n",
      "it = 2 | regret = 0.20 | [20016 19505 18468] [18315 18375 19253]\n",
      "it = 3 | regret = 0.10 | [20260 19926 18312] [18411 20722 17940]\n",
      "it = 4 | regret = 0.10 | [20260 19926 18312] [21332 18308 17456]\n",
      "it = 5 | regret = 0.09 | [20260 19926 18312] [19562 18331 19149]\n",
      "it = 6 | regret = 0.08 | [20260 19926 18312] [20750 20004 16453]\n",
      "it = 7 | regret = 0.05 | [20260 19926 18312] [20929 19710 17630]\n",
      "it = 8 | regret = 0.03 | [20260 19926 18312] [20544 18165 18500]\n",
      "it = 9 | regret = 0.03 | [20260 19926 18312] [18804 20057 18535]\n",
      "it = 10 | regret = 0.03 | [20260 19926 18312] [19681 20613 16803]\n",
      "it = 11 | regret = 0.02 | [20260 19926 18312] [19376 18691 19154]\n",
      "it = 12 | regret = 0.01 | [20260 19926 18312] [20939 19107 17886]\n",
      "it = 13 | regret = 0.00 | [20260 19926 18312] [18668 20770 17503]\n",
      "Procedure 2\n",
      "Init EU Model\n",
      "it = 0 | voisins: 267\n",
      "solution: 0.22649854750284554\n",
      "[18021 17896 16680]\n",
      "\n",
      "it = 1 | voisins: 281\n",
      "solution: 0.22649854750284554\n",
      "[17494 17097 17451]\n",
      "\n",
      "it = 2 | voisins: 388\n",
      "solution: 0.16220549282029834\n",
      "[17094 17098 17818]\n",
      "\n",
      "it = 3 | voisins: 349\n"
     ]
    }
   ],
   "source": [
    "from time import time\n",
    "params = (n,p,v,w,W)\n",
    "\n",
    "def gap(opt, sol):\n",
    "    return (opt - sol)*100 / opt\n",
    "\n",
    "def value(x, v):\n",
    "    print(x.shape)\n",
    "    return v[x==1, :].sum(0)\n",
    "\n",
    "def step(params, mode='EU', m = 20, verbose=False):\n",
    "    DM = DecisionMaker(p, mode)\n",
    "    DM_opt = DM.get_opt(params)\n",
    "    print('Optimal: ', value(DM_opt[0], params[2]))\n",
    "\n",
    "    # Procedure 1\n",
    "    DM.nb_questions\n",
    "    print('Procedure 1')\n",
    "    tps = time()\n",
    "    opt = RBGS(m, params, mode=mode, DM=DM, verbose=verbose)\n",
    "    tps = time() - tps\n",
    "    n = DM.nb_questions\n",
    "    g = gap(DM_opt[1], DM.value(opt))\n",
    "    res1 = (n, g, tps)\n",
    "    \n",
    "    DM.nb_questions = 0\n",
    "\n",
    "    #Procedure 2\n",
    "    print('Procedure 2')\n",
    "    tps = time()\n",
    "    opt = RBLS(params, mode=mode, DM=DM, verbose=verbose)\n",
    "    tps = time() - tps\n",
    "    n = DM.nb_questions\n",
    "    g = gap(DM_opt[1], DM.value(opt))\n",
    "    res2 = (n, g, tps)\n",
    "    \n",
    "    DM.nb_questions = 0\n",
    "    return res1, res2\n",
    "\n",
    "P1 = []\n",
    "P2 = []\n",
    "mode = 'EU'\n",
    "m = 20\n",
    "\n",
    "for it in range(2):\n",
    "    print(f'======= {it = } ========')\n",
    "    res1, res2 = step(params, mode, m, verbose=True)\n",
    "    P1.append(res1)\n",
    "    P2.append(res2)"
   ]
  },
  {
   "cell_type": "code",
   "execution_count": 6,
   "id": "399e245d",
   "metadata": {},
   "outputs": [
    {
     "data": {
      "text/plain": [
       "[(8, array([-6.9051518 , 15.2401466 , 27.42370703]), 60.337414026260376),\n",
       " (13, array([-5.51317545, -3.77371837,  4.63192157]), 72.22241497039795)]"
      ]
     },
     "execution_count": 6,
     "metadata": {},
     "output_type": "execute_result"
    }
   ],
   "source": [
    "P1"
   ]
  },
  {
   "cell_type": "code",
   "execution_count": null,
   "id": "9a37ee8e",
   "metadata": {},
   "outputs": [],
   "source": [
    "P1 = np.array(P1)\n",
    "P2 = np.array(P2)\n",
    "np.savetxt('P1.txt', P1)\n",
    "np.savetxt('P2.txt', P2)"
   ]
  },
  {
   "cell_type": "code",
   "execution_count": null,
   "id": "75edd797",
   "metadata": {},
   "outputs": [],
   "source": []
  }
 ],
 "metadata": {
  "kernelspec": {
   "display_name": "Python 3 (ipykernel)",
   "language": "python",
   "name": "python3"
  },
  "language_info": {
   "codemirror_mode": {
    "name": "ipython",
    "version": 3
   },
   "file_extension": ".py",
   "mimetype": "text/x-python",
   "name": "python",
   "nbconvert_exporter": "python",
   "pygments_lexer": "ipython3",
   "version": "3.9.7"
  }
 },
 "nbformat": 4,
 "nbformat_minor": 5
}
